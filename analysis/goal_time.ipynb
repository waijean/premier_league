{
 "cells": [
  {
   "cell_type": "code",
   "execution_count": 1,
   "metadata": {},
   "outputs": [],
   "source": [
    "import pandas as pd\n",
    "import numpy as np\n",
    "# import matplotlib.pyplot as plt\n",
    "import seaborn as sns\n",
    "sns.set()"
   ]
  },
  {
   "cell_type": "markdown",
   "metadata": {},
   "source": [
    "#### Problem Statement\n",
    "To investigate whether it is equally likely to observe a goal throughout the football match, or there is a higher probability to observe a goal during a specific game interval.  \n",
    "\n",
    "#### Data\n",
    "We collected the goal scoring time for 2019/20 Premier League season by scraping fbref [website](https://fbref.com/en/comps/9/3232/2019-2020-Premier-League-Stats). \n",
    "\n",
    "#### Hypothesis\n",
    "The distribution of goal scoring time follows a uniform distribution.\n",
    "\n",
    "#### Method\n",
    "Run goodness-of-fit test\n",
    "\n",
    "1. Kolmogorov-Smirnov test\n",
    "\n",
    "2. Chi-square test"
   ]
  },
  {
   "cell_type": "code",
   "execution_count": 2,
   "metadata": {},
   "outputs": [],
   "source": [
    "goals_df = pd.read_csv(\"../data/1920PL_goals.csv\")"
   ]
  },
  {
   "cell_type": "code",
   "execution_count": 3,
   "metadata": {},
   "outputs": [
    {
     "data": {
      "text/html": [
       "<div>\n",
       "<style scoped>\n",
       "    .dataframe tbody tr th:only-of-type {\n",
       "        vertical-align: middle;\n",
       "    }\n",
       "\n",
       "    .dataframe tbody tr th {\n",
       "        vertical-align: top;\n",
       "    }\n",
       "\n",
       "    .dataframe thead th {\n",
       "        text-align: right;\n",
       "    }\n",
       "</style>\n",
       "<table border=\"1\" class=\"dataframe\">\n",
       "  <thead>\n",
       "    <tr style=\"text-align: right;\">\n",
       "      <th></th>\n",
       "      <th>Squad</th>\n",
       "      <th>Week</th>\n",
       "      <th>Home</th>\n",
       "      <th>Away</th>\n",
       "      <th>Player</th>\n",
       "      <th>Time</th>\n",
       "    </tr>\n",
       "  </thead>\n",
       "  <tbody>\n",
       "    <tr>\n",
       "      <th>0</th>\n",
       "      <td>Bournemouth</td>\n",
       "      <td>1</td>\n",
       "      <td>Bournemouth</td>\n",
       "      <td>Sheffield Utd</td>\n",
       "      <td>Chris Mepham</td>\n",
       "      <td>62</td>\n",
       "    </tr>\n",
       "    <tr>\n",
       "      <th>1</th>\n",
       "      <td>Sheffield Utd</td>\n",
       "      <td>1</td>\n",
       "      <td>Bournemouth</td>\n",
       "      <td>Sheffield Utd</td>\n",
       "      <td>Billy Sharp</td>\n",
       "      <td>88</td>\n",
       "    </tr>\n",
       "    <tr>\n",
       "      <th>2</th>\n",
       "      <td>Burnley</td>\n",
       "      <td>1</td>\n",
       "      <td>Burnley</td>\n",
       "      <td>Southampton</td>\n",
       "      <td>Ashley Barnes</td>\n",
       "      <td>63</td>\n",
       "    </tr>\n",
       "    <tr>\n",
       "      <th>3</th>\n",
       "      <td>Burnley</td>\n",
       "      <td>1</td>\n",
       "      <td>Burnley</td>\n",
       "      <td>Southampton</td>\n",
       "      <td>Ashley Barnes</td>\n",
       "      <td>70</td>\n",
       "    </tr>\n",
       "    <tr>\n",
       "      <th>4</th>\n",
       "      <td>Burnley</td>\n",
       "      <td>1</td>\n",
       "      <td>Burnley</td>\n",
       "      <td>Southampton</td>\n",
       "      <td>Jóhann Berg Guðmundsson</td>\n",
       "      <td>75</td>\n",
       "    </tr>\n",
       "  </tbody>\n",
       "</table>\n",
       "</div>"
      ],
      "text/plain": [
       "           Squad  Week         Home           Away                   Player  \\\n",
       "0    Bournemouth     1  Bournemouth  Sheffield Utd             Chris Mepham   \n",
       "1  Sheffield Utd     1  Bournemouth  Sheffield Utd              Billy Sharp   \n",
       "2        Burnley     1      Burnley    Southampton            Ashley Barnes   \n",
       "3        Burnley     1      Burnley    Southampton            Ashley Barnes   \n",
       "4        Burnley     1      Burnley    Southampton  Jóhann Berg Guðmundsson   \n",
       "\n",
       "  Time  \n",
       "0   62  \n",
       "1   88  \n",
       "2   63  \n",
       "3   70  \n",
       "4   75  "
      ]
     },
     "execution_count": 3,
     "metadata": {},
     "output_type": "execute_result"
    }
   ],
   "source": [
    "goals_df.head()"
   ]
  },
  {
   "cell_type": "markdown",
   "metadata": {},
   "source": [
    "### Rounding stoppage time\n",
    "\n",
    "There are several ways to deal with stoppage time. \n",
    "\n",
    "If we treat the goal scoring time as a continuous distribution, we can round the stoppage time to 45 or 90 minutes but this is likely to *inflate* the frequency on these two points of time. "
   ]
  },
  {
   "cell_type": "code",
   "execution_count": 4,
   "metadata": {},
   "outputs": [],
   "source": [
    "def round_stoppage_time(s:pd.Series):\n",
    "    s_new = s.replace({\"45\\+[0-9]\":\"45\", \"90\\+[0-9]\":\"90\"}, regex=True)\n",
    "    s_new = s_new.astype(int)\n",
    "    return s_new\n",
    "\n",
    "goals_df[\"Rounded_Time\"] = round_stoppage_time(goals_df[\"Time\"])"
   ]
  },
  {
   "cell_type": "code",
   "execution_count": 5,
   "metadata": {},
   "outputs": [
    {
     "data": {
      "text/plain": [
       "<AxesSubplot:ylabel='Frequency'>"
      ]
     },
     "execution_count": 5,
     "metadata": {},
     "output_type": "execute_result"
    },
    {
     "data": {
      "image/png": "[encoded data removed]",
      "text/plain": [
       "<Figure size 720x360 with 1 Axes>"
      ]
     },
     "metadata": {},
     "output_type": "display_data"
    }
   ],
   "source": [
    "goals_df[\"Rounded_Time\"].plot.hist(bins=90, figsize=(10,5))"
   ]
  },
  {
   "cell_type": "markdown",
   "metadata": {},
   "source": [
    "### Kolmogorov-Smirnov test\n",
    "\n",
    "A test for continuous distributions based on the empirical distribution function (EDF)\n",
    "\n",
    "#### Reference\n",
    "\n",
    "https://www.statisticshowto.com/kolmogorov-smirnov-test/"
   ]
  },
  {
   "cell_type": "code",
   "execution_count": 6,
   "metadata": {},
   "outputs": [
    {
     "name": "stdout",
     "output_type": "stream",
     "text": [
      "Test statistics: 0.117\n",
      "P value: 0.000\n",
      "The null hypothesis is rejected. The distribution of goal scoring time is not uniform.\n"
     ]
    }
   ],
   "source": [
    "from scipy import stats\n",
    "\n",
    "# set random seed as we are drawing random samples from continuous uniform distribution\n",
    "np.random.seed(0)\n",
    "test_stat, pvalue = stats.kstest(rvs=goals_df[\"Rounded_Time\"], cdf=stats.uniform(0,90).rvs(size=len(goals_df)))\n",
    "\n",
    "print(f\"Test statistics: {test_stat:.3f}\")\n",
    "print(f\"P value: {pvalue:.3f}\")\n",
    "if pvalue < 0.05:\n",
    "    print(\"The null hypothesis is rejected. The distribution of goal scoring time is not uniform.\")\n",
    "else:\n",
    "    print(\"The null hypothesis is not rejected. The distribution of goal scoring time is uniform.\")"
   ]
  },
  {
   "cell_type": "markdown",
   "metadata": {},
   "source": [
    "### Chi-square test\n",
    "\n",
    "A test for continuous and discrete distributions based on the observed and expected frequencies.\n",
    "\n",
    "Note:\n",
    "This test is invalid when the observed or expected frequencies in each category are too small. A typical rule is that all of the observed and expected frequencies should be at least 5.\n",
    "\n",
    "#### Reference\n",
    "\n",
    "https://docs.scipy.org/doc/scipy/reference/generated/scipy.stats.chisquare.html"
   ]
  },
  {
   "cell_type": "markdown",
   "metadata": {},
   "source": [
    "### Categorizing stoppage time\n",
    "\n",
    "Another way of dealing with stoppage time is to bin the goal scoring time into 5-minute interval and treat the intervals as discrete distribution.\n",
    "\n",
    "This way, we can treat the stoppage time as an interval itself."
   ]
  },
  {
   "cell_type": "code",
   "execution_count": 7,
   "metadata": {},
   "outputs": [],
   "source": [
    "def create_bins(s:pd.Series):\n",
    "    s_new = s.replace({\"45\\+[0-9]\":\"first_half_stoppage\", \"90\\+[0-9]\":\"second_half_stoppage\"}, regex=True)\n",
    "    is_stoppage = s_new.isin([\"first_half_stoppage\", \"second_half_stoppage\"])\n",
    "\n",
    "    # bin the non stoppage time into 5-minute interval \n",
    "    non_stoppage = s_new[~is_stoppage].astype(int)\n",
    "    interval_index = pd.interval_range(start=0, end=90, freq=5)\n",
    "    non_stoppage_interval = pd.cut(non_stoppage, bins=interval_index).astype(\"str\")\n",
    "    \n",
    "    # append with stoppage to return series of same length\n",
    "    stoppage = s_new[is_stoppage]\n",
    "    full_interval = non_stoppage_interval.append(stoppage, verify_integrity=True)\n",
    "    assert len(s) == len(full_interval) \n",
    "    \n",
    "    return full_interval\n",
    "\n",
    "goals_df[\"Time Interval\"] = create_bins(goals_df[\"Time\"])"
   ]
  },
  {
   "cell_type": "code",
   "execution_count": 8,
   "metadata": {},
   "outputs": [
    {
     "data": {
      "text/plain": [
       "(50, 55]                74\n",
       "(40, 45]                72\n",
       "(70, 75]                66\n",
       "(80, 85]                63\n",
       "(20, 25]                58\n",
       "(85, 90]                55\n",
       "(75, 80]                54\n",
       "(35, 40]                54\n",
       "(65, 70]                53\n",
       "second_half_stoppage    51\n",
       "(25, 30]                50\n",
       "(55, 60]                50\n",
       "(15, 20]                50\n",
       "(60, 65]                47\n",
       "(45, 50]                46\n",
       "(5, 10]                 46\n",
       "(30, 35]                43\n",
       "(10, 15]                42\n",
       "first_half_stoppage     33\n",
       "(0, 5]                  27\n",
       "Name: Time Interval, dtype: int64"
      ]
     },
     "execution_count": 8,
     "metadata": {},
     "output_type": "execute_result"
    }
   ],
   "source": [
    "goals_df[\"Time Interval\"].value_counts()"
   ]
  },
  {
   "cell_type": "code",
   "execution_count": 9,
   "metadata": {},
   "outputs": [
    {
     "name": "stdout",
     "output_type": "stream",
     "text": [
      "Test statistics: 48.940\n",
      "P value: 0.000\n",
      "The null hypothesis is rejected. The distribution of goal scoring time is not uniform.\n"
     ]
    }
   ],
   "source": [
    "test_stat, pvalue = stats.chisquare(f_obs=goals_df[\"Time Interval\"].value_counts())\n",
    "print(f\"Test statistics: {test_stat:.3f}\")\n",
    "print(f\"P value: {pvalue:.3f}\")\n",
    "if pvalue < 0.05:\n",
    "    print(\"The null hypothesis is rejected. The distribution of goal scoring time is not uniform.\")\n",
    "else:\n",
    "    print(\"The null hypothesis is not rejected. The distribution of goal scoring time is uniform.\")"
   ]
  },
  {
   "cell_type": "markdown",
   "metadata": {},
   "source": [
    "### Conclusion\n",
    "\n",
    "Both tests indicate that the goals scoring time does not follow a uniform distribution. This suggests that there is a specific interval where there is a higher probability of observing a goal.\n",
    "\n",
    "From the empirical data, "
   ]
  },
  {
   "cell_type": "code",
   "execution_count": 10,
   "metadata": {},
   "outputs": [
    {
     "data": {
      "text/plain": [
       "<matplotlib.lines.Line2D at 0x24ead499940>"
      ]
     },
     "execution_count": 10,
     "metadata": {},
     "output_type": "execute_result"
    },
    {
     "data": {
      "image/png": "[encoded data removed]",
      "text/plain": [
       "<Figure size 432x432 with 1 Axes>"
      ]
     },
     "metadata": {},
     "output_type": "display_data"
    }
   ],
   "source": [
    "interval_counts = goals_df[\"Time Interval\"].value_counts(ascending=True)\n",
    "\n",
    "ax = interval_counts.plot.barh(figsize=(6,6), title=\"Frequency of Goal Scoring Interval\")\n",
    "# indicate the mean\n",
    "ax.axvline(x=interval_counts.mean(), color='k', linestyle='-')"
   ]
  },
  {
   "cell_type": "code",
   "execution_count": null,
   "metadata": {},
   "outputs": [],
   "source": []
  }
 ],
 "metadata": {
  "kernelspec": {
   "display_name": "Python 3",
   "language": "python",
   "name": "python3"
  },
  "language_info": {
   "codemirror_mode": {
    "name": "ipython",
    "version": 3
   },
   "file_extension": ".py",
   "mimetype": "text/x-python",
   "name": "python",
   "nbconvert_exporter": "python",
   "pygments_lexer": "ipython3",
   "version": "3.7.1"
  }
 },
 "nbformat": 4,
 "nbformat_minor": 4
}
